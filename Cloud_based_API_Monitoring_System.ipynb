{
  "nbformat": 4,
  "nbformat_minor": 0,
  "metadata": {
    "colab": {
      "provenance": []
    },
    "kernelspec": {
      "name": "python3",
      "display_name": "Python 3"
    },
    "language_info": {
      "name": "python"
    }
  },
  "cells": [
    {
      "cell_type": "code",
      "source": [
        "# Step 1: Install required packages\n",
        "!pip install flask flask-ngrok pyngrok --quiet\n",
        "\n",
        "# Step 2: Write your Flask app\n",
        "from flask import Flask\n",
        "\n",
        "app = Flask(__name__)\n",
        "\n",
        "@app.route('/')\n",
        "def home():\n",
        "    return \"✅ Hello from Flask + ngrok in Colab!\"\n",
        "\n",
        "# Step 3: Set ngrok authtoken securely\n",
        "from pyngrok import conf, ngrok\n",
        "\n",
        "# ⚠️ Replace this with your NEW token after revoking the old one from dashboard\n",
        "conf.get_default().auth_token = \"30geHoT1aMnRTNfjV9ikF81VFEl_2GtTNuSpx4izEijjVthNU\"\n",
        "\n",
        "# Step 4: Run Flask in background\n",
        "import threading\n",
        "\n",
        "def run_app():\n",
        "    app.run(host='0.0.0.0', port=5000)\n",
        "\n",
        "thread = threading.Thread(target=run_app)\n",
        "thread.start()\n",
        "\n",
        "# Step 5: Start ngrok tunnel and get public URL\n",
        "public_url = ngrok.connect(5000)\n",
        "print(f\"🔗 Public URL to access your app: {public_url}\")\n"
      ],
      "metadata": {
        "colab": {
          "base_uri": "https://localhost:8080/"
        },
        "id": "p0j2b-WYwAhx",
        "outputId": "b6c8e5fd-2b75-43e9-c176-d313d20e5e77"
      },
      "execution_count": 4,
      "outputs": [
        {
          "output_type": "stream",
          "name": "stdout",
          "text": [
            " * Serving Flask app '__main__'\n",
            " * Debug mode: off\n"
          ]
        },
        {
          "output_type": "stream",
          "name": "stderr",
          "text": [
            "INFO:werkzeug:\u001b[31m\u001b[1mWARNING: This is a development server. Do not use it in a production deployment. Use a production WSGI server instead.\u001b[0m\n",
            " * Running on all addresses (0.0.0.0)\n",
            " * Running on http://127.0.0.1:5000\n",
            " * Running on http://172.28.0.12:5000\n",
            "INFO:werkzeug:\u001b[33mPress CTRL+C to quit\u001b[0m\n"
          ]
        },
        {
          "output_type": "stream",
          "name": "stdout",
          "text": [
            "🔗 Public URL to access your app: NgrokTunnel: \"https://8ec08d9963c2.ngrok-free.app\" -> \"http://localhost:5000\"\n"
          ]
        }
      ]
    }
  ]
}